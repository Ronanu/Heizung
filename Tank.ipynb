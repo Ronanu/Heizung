{
 "cells": [
  {
   "cell_type": "markdown",
   "source": [
    "## Klasse Öltank!"
   ],
   "metadata": {
    "collapsed": false
   }
  },
  {
   "cell_type": "code",
   "execution_count": 3,
   "outputs": [],
   "source": [
    "from Klassen import *"
   ],
   "metadata": {
    "collapsed": false,
    "pycharm": {
     "name": "#%%\n"
    }
   }
  },
  {
   "cell_type": "markdown",
   "source": [
    "<img src=\"img.jpg\" width=\"500\"/>\n"
   ],
   "metadata": {
    "collapsed": false
   }
  },
  {
   "cell_type": "code",
   "execution_count": 8,
   "metadata": {
    "collapsed": true
   },
   "outputs": [
    {
     "name": "stdout",
     "output_type": "stream",
     "text": [
      "([294, 154, 412, 327], [0.5849999999999995, 3.0780000000000003, 3.6674999999999995, 4.2749999999999995])\n"
     ]
    }
   ],
   "source": [
    "\n",
    "class Oeltank:\n",
    "    # Dimensionen:\n",
    "    lx = 3    # m\n",
    "    ly = 1.5  # m\n",
    "    lz = 0.\n",
    "    dt = None\n",
    "    dv = None\n",
    "\n",
    "    def fillings(self):\n",
    "        # Time_stamps:\n",
    "        dates = [[2019, 10, 6], [2020, 3, 7], [2021, 4, 21], [2022, 3, 12]]\n",
    "        rest = [1.37, 0.816, 0.685, 0.55]\n",
    "        filling = [1.5, 1.5, 1.5, 1.5]\n",
    "        dh = [f-r for f, r in zip(filling, rest)]\n",
    "        dv = [self.calc_v(_dh) for _dh in dh]\n",
    "        timer = DayCounter(y=2018, m=12, d=18)  # erste Messung\n",
    "        dt = [timer.get_date_diff(_d) for _d in dates]\n",
    "        return dt, dv\n",
    "\n",
    "    def calc_v(self, dh):\n",
    "        return self.lx * self.ly * dh\n",
    "\n",
    "\n",
    "oel = Oeltank()\n",
    "\n",
    "print(oel.fillings())"
   ]
  }
 ],
 "metadata": {
  "kernelspec": {
   "display_name": "Python 3",
   "language": "python",
   "name": "python3"
  },
  "language_info": {
   "codemirror_mode": {
    "name": "ipython",
    "version": 2
   },
   "file_extension": ".py",
   "mimetype": "text/x-python",
   "name": "python",
   "nbconvert_exporter": "python",
   "pygments_lexer": "ipython2",
   "version": "2.7.6"
  }
 },
 "nbformat": 4,
 "nbformat_minor": 0
}