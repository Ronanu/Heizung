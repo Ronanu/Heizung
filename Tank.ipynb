{
 "cells": [
  {
   "cell_type": "markdown",
   "source": [
    "## Klasse Öltank!"
   ],
   "metadata": {
    "collapsed": false
   }
  },
  {
   "cell_type": "code",
   "execution_count": null,
   "outputs": [],
   "source": [
    "from Klassen import *"
   ],
   "metadata": {
    "collapsed": false,
    "pycharm": {
     "name": "#%%\n"
    }
   }
  },
  {
   "cell_type": "markdown",
   "source": [
    "<img src=\"../../../Kamera-Uploads/2022-03-18 09.54.02.jpg\" width=\"600\"/>"
   ],
   "metadata": {
    "collapsed": false
   }
  },
  {
   "cell_type": "code",
   "execution_count": 1,
   "metadata": {
    "collapsed": true
   },
   "outputs": [
    {
     "name": "stdout",
     "output_type": "stream",
     "text": [
      "6.75\n"
     ]
    }
   ],
   "source": [
    "\n",
    "class Oeltank:\n",
    "    # Dimensionen:\n",
    "    lx = 3    # m\n",
    "    ly = 1.5  # m\n",
    "    lz = 0.\n",
    "\n",
    "    def set_dh(self, h):\n",
    "        self.lz = h\n",
    "\n",
    "    def calc_v(self):\n",
    "        return self.lx * self.ly * self.lz\n",
    "\n",
    "    def get_v(self):\n",
    "        return self.calc_v()\n",
    "\n",
    "oel = Oeltank()\n",
    "oel.set_dh(1.5)\n",
    "print(oel.get_v())"
   ]
  }
 ],
 "metadata": {
  "kernelspec": {
   "display_name": "Python 3",
   "language": "python",
   "name": "python3"
  },
  "language_info": {
   "codemirror_mode": {
    "name": "ipython",
    "version": 2
   },
   "file_extension": ".py",
   "mimetype": "text/x-python",
   "name": "python",
   "nbconvert_exporter": "python",
   "pygments_lexer": "ipython2",
   "version": "2.7.6"
  }
 },
 "nbformat": 4,
 "nbformat_minor": 0
}